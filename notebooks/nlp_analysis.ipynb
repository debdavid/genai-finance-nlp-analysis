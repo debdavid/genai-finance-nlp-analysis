{
 "cells": [
  {
   "cell_type": "code",
   "execution_count": 4,
   "id": "5a7d6f07",
   "metadata": {},
   "outputs": [
    {
     "name": "stdout",
     "output_type": "stream",
     "text": [
      "['McKinsey_State.pdf', 'EY_FPA.pdf', 'BCG_Reckoning.pdf', 'KPMG_Insights.pdf', 'McKinsey_Bank.pdf']\n"
     ]
    }
   ],
   "source": [
    "import os\n",
    "print(os.listdir('../data/reports'))"
   ]
  },
  {
   "cell_type": "code",
   "execution_count": 5,
   "id": "8343b135",
   "metadata": {},
   "outputs": [
    {
     "name": "stdout",
     "output_type": "stream",
     "text": [
      "/workspaces/genai-finance-nlp-analysis/notebooks\n"
     ]
    }
   ],
   "source": [
    "import os\n",
    "print(os.getcwd())"
   ]
  },
  {
   "cell_type": "code",
   "execution_count": null,
   "id": "664d9f70",
   "metadata": {},
   "outputs": [
    {
     "name": "stderr",
     "output_type": "stream",
     "text": [
      "[nltk_data] Downloading package punkt to /workspaces/genai-finance-\n",
      "[nltk_data]     nlp-analysis/nltk_data...\n",
      "[nltk_data]   Package punkt is already up-to-date!\n",
      "[nltk_data] Downloading package punkt_tab to /workspaces/genai-\n",
      "[nltk_data]     finance-nlp-analysis/nltk_data...\n",
      "[nltk_data]   Package punkt_tab is already up-to-date!\n",
      "[nltk_data] Downloading package stopwords to /workspaces/genai-\n",
      "[nltk_data]     finance-nlp-analysis/nltk_data...\n",
      "[nltk_data]   Package stopwords is already up-to-date!\n",
      "[nltk_data] Downloading package wordnet to /workspaces/genai-finance-\n",
      "[nltk_data]     nlp-analysis/nltk_data...\n",
      "[nltk_data]   Package wordnet is already up-to-date!\n"
     ]
    },
    {
     "name": "stdout",
     "output_type": "stream",
     "text": [
      "Saved cleaned texts to /workspaces/genai-finance-nlp-analysis/data/cleaned_texts.csv\n"
     ]
    }
   ],
   "source": [
    "import os\n",
    "import PyPDF2\n",
    "import pandas as pd\n",
    "import re\n",
    "from nltk.corpus import stopwords\n",
    "from nltk.tokenize import word_tokenize\n",
    "from nltk.stem import WordNetLemmatizer\n",
    "import nltk\n",
    "\n",
    "# Set workspace root\n",
    "WORKSPACE_ROOT = '/workspaces/genai-finance-nlp-analysis'\n",
    "\n",
    "# Set NLTK data path and download to project directory\n",
    "nltk_data_dir = os.path.join(WORKSPACE_ROOT, 'nltk_data')\n",
    "os.makedirs(nltk_data_dir, exist_ok=True)\n",
    "nltk.data.path.append(nltk_data_dir)\n",
    "try:\n",
    "    nltk.data.find('tokenizers/punkt')\n",
    "    nltk.data.find('tokenizers/punkt_tab')\n",
    "    nltk.data.find('corpora/stopwords')\n",
    "    nltk.data.find('corpora/wordnet')\n",
    "except LookupError:\n",
    "    nltk.download('punkt', download_dir=nltk_data_dir)\n",
    "    nltk.download('punkt_tab', download_dir=nltk_data_dir)\n",
    "    nltk.download('stopwords', download_dir=nltk_data_dir)\n",
    "    nltk.download('wordnet', download_dir=nltk_data_dir)\n",
    "\n",
    "# Paths (scalable for 10+ reports)\n",
    "REPORT_DIR = os.path.join(WORKSPACE_ROOT, 'data/reports')  \n",
    "reports = {\n",
    "    'McKinsey_State': 'McKinsey_State.pdf',\n",
    "    'BCG_Reckoning': 'BCG_Reckoning.pdf',\n",
    "    'EY_FPA': 'EY_FPA.pdf',\n",
    "    'McKinsey_Bank': 'McKinsey_Bank.pdf',\n",
    "    'KPMG_Insights': 'KPMG_Insights.pdf'  \n",
    "}\n",
    "\n",
    "# Initialize NLTK resources\n",
    "stop_words = set(stopwords.words('english'))\n",
    "lemmatizer = WordNetLemmatizer()\n",
    "\n",
    "def extract_text_from_pdf(file_path):\n",
    "    \"\"\"Extract text from a PDF file.\"\"\"\n",
    "    try:\n",
    "        with open(file_path, 'rb') as file:\n",
    "            reader = PyPDF2.PdfReader(file)\n",
    "            if reader.is_encrypted:\n",
    "                reader.decrypt('')  # Provide password if known\n",
    "            text = ''\n",
    "            for page in reader.pages:\n",
    "                page_text = page.extract_text()\n",
    "                if page_text:\n",
    "                    text += page_text\n",
    "            return text\n",
    "    except Exception as e:\n",
    "        print(f\"Error reading {file_path}: {e}\")\n",
    "        return ''\n",
    "\n",
    "def clean_text(text):\n",
    "    \"\"\"Clean: lower, remove non-alpha, tokenize, lemmatize, remove stops.\"\"\"\n",
    "    if not isinstance(text, str) or not text.strip():\n",
    "        return ''\n",
    "    try:\n",
    "        text = re.sub(r'[^a-zA-Z\\s]', '', text.lower())\n",
    "        tokens = word_tokenize(text)\n",
    "        cleaned = [lemmatizer.lemmatize(token) for token in tokens if token not in stop_words and len(token) > 3]\n",
    "        return ' '.join(cleaned)\n",
    "    except Exception as e:\n",
    "        print(f\"Error cleaning text: {e}\")\n",
    "        return ''\n",
    "\n",
    "# Extract and clean texts\n",
    "extracted_texts = {name: extract_text_from_pdf(os.path.join(REPORT_DIR, file)) for name, file in reports.items()}\n",
    "cleaned_texts = {name: clean_text(text) for name, text in extracted_texts.items() if text}\n",
    "\n",
    "# Save to CSV\n",
    "output_dir = os.path.join(WORKSPACE_ROOT, 'data')\n",
    "os.makedirs(output_dir, exist_ok=True)\n",
    "output_path = os.path.join(output_dir, 'cleaned_texts.csv')\n",
    "df = pd.DataFrame(cleaned_texts.items(), columns=['Firm_Report', 'Text'])\n",
    "df.to_csv(output_path, index=False)\n",
    "print(f\"Saved cleaned texts to {output_path}\")"
   ]
  }
 ],
 "metadata": {
  "kernelspec": {
   "display_name": ".venv (3.12.1)",
   "language": "python",
   "name": "python3"
  },
  "language_info": {
   "codemirror_mode": {
    "name": "ipython",
    "version": 3
   },
   "file_extension": ".py",
   "mimetype": "text/x-python",
   "name": "python",
   "nbconvert_exporter": "python",
   "pygments_lexer": "ipython3",
   "version": "3.12.1"
  }
 },
 "nbformat": 4,
 "nbformat_minor": 5
}
