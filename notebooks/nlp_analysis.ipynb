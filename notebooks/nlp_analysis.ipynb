{
 "cells": [
  {
   "cell_type": "code",
   "execution_count": 16,
   "id": "b558fa4d",
   "metadata": {},
   "outputs": [
    {
     "name": "stderr",
     "output_type": "stream",
     "text": [
      "[nltk_data] Downloading package punkt to /home/codespace/nltk_data...\n",
      "[nltk_data]   Package punkt is already up-to-date!\n",
      "[nltk_data] Downloading package stopwords to\n",
      "[nltk_data]     /home/codespace/nltk_data...\n",
      "[nltk_data]   Package stopwords is already up-to-date!\n",
      "[nltk_data] Downloading package wordnet to\n",
      "[nltk_data]     /home/codespace/nltk_data...\n",
      "[nltk_data]   Package wordnet is already up-to-date!\n"
     ]
    }
   ],
   "source": [
    "import os\n",
    "import PyPDF2\n",
    "import pandas as pd \n",
    "import re \n",
    "from nltk.corpus import stopwords\n",
    "from nltk.tokenize import word_tokenize\n",
    "from nltk.stem import WordNetLemmatizer\n",
    "import nltk\n",
    "nltk.download('punkt')\n",
    "nltk.download('stopwords')\n",
    "nltk.download('wordnet')\n",
    "\n",
    "# Paths (scalable for 10+ reports)\n",
    "REPORT_DIR = '..data/reports'\n",
    "reports = {\n",
    "    'McKinsey_State': 'McKinsey_State.pdf',\n",
    "    'BCG_Reckoning': 'BCG_Reckoning.pdf',\n",
    "    'KPMG_Insights': 'KPMG_Insights.pdf',\n",
    "    'EY_FPA': 'EY_FPA.pdf',\n",
    "    'McKinsey_Bank': 'McKinsey_Bank.pdf'\n",
    "}"
   ]
  },
  {
   "cell_type": "code",
   "execution_count": 19,
   "id": "5a7d6f07",
   "metadata": {},
   "outputs": [
    {
     "name": "stdout",
     "output_type": "stream",
     "text": [
      "['McKinsey_State.pdf', 'EY_FPA.pdf', 'BCG_Reckoning.pdf', 'KPMG_Insights.pdf', 'McKinsey_Bank.pdf']\n"
     ]
    }
   ],
   "source": [
    "import os\n",
    "print(os.listdir('../data/reports'))"
   ]
  },
  {
   "cell_type": "code",
   "execution_count": 20,
   "id": "8343b135",
   "metadata": {},
   "outputs": [
    {
     "name": "stdout",
     "output_type": "stream",
     "text": [
      "/workspaces/genai-finance-nlp-analysis/notebooks\n"
     ]
    }
   ],
   "source": [
    "import os\n",
    "print(os.getcwd())"
   ]
  },
  {
   "cell_type": "code",
   "execution_count": 17,
   "id": "742fa2d1",
   "metadata": {},
   "outputs": [
    {
     "name": "stdout",
     "output_type": "stream",
     "text": [
      "Error reading ..data/reports/McKinsey_State.pdf: [Errno 2] No such file or directory: '..data/reports/McKinsey_State.pdf'\n",
      "Extracted 0 chars from McKinsey_State\n",
      "Error reading ..data/reports/BCG_Reckoning.pdf: [Errno 2] No such file or directory: '..data/reports/BCG_Reckoning.pdf'\n",
      "Extracted 0 chars from BCG_Reckoning\n",
      "Error reading ..data/reports/KPMG_Insights.pdf: [Errno 2] No such file or directory: '..data/reports/KPMG_Insights.pdf'\n",
      "Extracted 0 chars from KPMG_Insights\n",
      "Error reading ..data/reports/EY_FPA.pdf: [Errno 2] No such file or directory: '..data/reports/EY_FPA.pdf'\n",
      "Extracted 0 chars from EY_FPA\n",
      "Error reading ..data/reports/McKinsey_Bank.pdf: [Errno 2] No such file or directory: '..data/reports/McKinsey_Bank.pdf'\n",
      "Extracted 0 chars from McKinsey_Bank\n"
     ]
    }
   ],
   "source": [
    "def extract_text_from_pdf(pdf_path):\n",
    "    \"\"\"Extract text from PDF. Why? PDFs have structured text for NLP.\"\"\"\n",
    "    try:\n",
    "        text = ''\n",
    "        with open(pdf_path, 'rb') as file:\n",
    "            reader = PyPDF2.PdfReader(file)\n",
    "            for page in reader.pages:\n",
    "                extracted = page.extract_text()\n",
    "                if extracted:\n",
    "                    text += extracted + '\\n'\n",
    "        return text\n",
    "    except Exception as e:\n",
    "        print(f\"Error reading {pdf_path}: {e}\")\n",
    "        return ''\n",
    "    \n",
    "extracted_texts = {}\n",
    "for name, path in reports.items():\n",
    "    full_path = os.path.join(REPORT_DIR, path)\n",
    "    extracted_texts[name] = extract_text_from_pdf(full_path)\n",
    "    print(f\"Extracted {len(extracted_texts[name])} chars from {name}\")\n"
   ]
  }
 ],
 "metadata": {
  "kernelspec": {
   "display_name": "Python 3",
   "language": "python",
   "name": "python3"
  },
  "language_info": {
   "codemirror_mode": {
    "name": "ipython",
    "version": 3
   },
   "file_extension": ".py",
   "mimetype": "text/x-python",
   "name": "python",
   "nbconvert_exporter": "python",
   "pygments_lexer": "ipython3",
   "version": "3.12.1"
  }
 },
 "nbformat": 4,
 "nbformat_minor": 5
}
