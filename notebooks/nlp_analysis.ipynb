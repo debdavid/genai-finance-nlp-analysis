{
 "cells": [
  {
   "cell_type": "code",
   "execution_count": 4,
   "id": "5a7d6f07",
   "metadata": {},
   "outputs": [
    {
     "name": "stdout",
     "output_type": "stream",
     "text": [
      "['McKinsey_State.pdf', 'EY_FPA.pdf', 'BCG_Reckoning.pdf', 'KPMG_Insights.pdf', 'McKinsey_Bank.pdf']\n"
     ]
    }
   ],
   "source": [
    "import os\n",
    "print(os.listdir('../data/reports'))"
   ]
  },
  {
   "cell_type": "code",
   "execution_count": 5,
   "id": "8343b135",
   "metadata": {},
   "outputs": [
    {
     "name": "stdout",
     "output_type": "stream",
     "text": [
      "/workspaces/genai-finance-nlp-analysis/notebooks\n"
     ]
    }
   ],
   "source": [
    "import os\n",
    "print(os.getcwd())"
   ]
  },
  {
   "cell_type": "code",
   "execution_count": null,
   "id": "664d9f70",
   "metadata": {},
   "outputs": [
    {
     "name": "stderr",
     "output_type": "stream",
     "text": [
      "[nltk_data] Downloading package punkt to /workspaces/genai-finance-\n",
      "[nltk_data]     nlp-analysis/nltk_data...\n",
      "[nltk_data]   Package punkt is already up-to-date!\n",
      "[nltk_data] Downloading package punkt_tab to /workspaces/genai-\n",
      "[nltk_data]     finance-nlp-analysis/nltk_data...\n",
      "[nltk_data]   Package punkt_tab is already up-to-date!\n",
      "[nltk_data] Downloading package stopwords to /workspaces/genai-\n",
      "[nltk_data]     finance-nlp-analysis/nltk_data...\n",
      "[nltk_data]   Package stopwords is already up-to-date!\n",
      "[nltk_data] Downloading package wordnet to /workspaces/genai-finance-\n",
      "[nltk_data]     nlp-analysis/nltk_data...\n",
      "[nltk_data]   Package wordnet is already up-to-date!\n"
     ]
    },
    {
     "name": "stdout",
     "output_type": "stream",
     "text": [
      "Saved cleaned texts to /workspaces/genai-finance-nlp-analysis/data/cleaned_texts.csv\n"
     ]
    }
   ],
   "source": [
    "import os\n",
    "import PyPDF2\n",
    "import pandas as pd\n",
    "import re\n",
    "from nltk.corpus import stopwords\n",
    "from nltk.tokenize import word_tokenize\n",
    "from nltk.stem import WordNetLemmatizer\n",
    "import nltk\n",
    "\n",
    "# Set workspace root\n",
    "WORKSPACE_ROOT = '/workspaces/genai-finance-nlp-analysis'\n",
    "\n",
    "# Set NLTK data path and download to project directory\n",
    "nltk_data_dir = os.path.join(WORKSPACE_ROOT, 'nltk_data')\n",
    "os.makedirs(nltk_data_dir, exist_ok=True)\n",
    "nltk.data.path.append(nltk_data_dir)\n",
    "try:\n",
    "    nltk.data.find('tokenizers/punkt')\n",
    "    nltk.data.find('tokenizers/punkt_tab')\n",
    "    nltk.data.find('corpora/stopwords')\n",
    "    nltk.data.find('corpora/wordnet')\n",
    "except LookupError:\n",
    "    nltk.download('punkt', download_dir=nltk_data_dir)\n",
    "    nltk.download('punkt_tab', download_dir=nltk_data_dir)\n",
    "    nltk.download('stopwords', download_dir=nltk_data_dir)\n",
    "    nltk.download('wordnet', download_dir=nltk_data_dir)\n",
    "\n",
    "# Paths (scalable for 10+ reports)\n",
    "REPORT_DIR = os.path.join(WORKSPACE_ROOT, 'data/reports')  \n",
    "reports = {\n",
    "    'McKinsey_State': 'McKinsey_State.pdf',\n",
    "    'BCG_Reckoning': 'BCG_Reckoning.pdf',\n",
    "    'EY_FPA': 'EY_FPA.pdf',\n",
    "    'McKinsey_Bank': 'McKinsey_Bank.pdf',\n",
    "    'KPMG_Insights': 'KPMG_Insights.pdf'  \n",
    "}\n",
    "\n",
    "# Initialize NLTK resources\n",
    "stop_words = set(stopwords.words('english'))\n",
    "lemmatizer = WordNetLemmatizer()\n",
    "\n",
    "def extract_text_from_pdf(file_path):\n",
    "    \"\"\"Extract text from a PDF file.\"\"\"\n",
    "    try:\n",
    "        with open(file_path, 'rb') as file:\n",
    "            reader = PyPDF2.PdfReader(file)\n",
    "            if reader.is_encrypted:\n",
    "                reader.decrypt('')  # Provide password if known\n",
    "            text = ''\n",
    "            for page in reader.pages:\n",
    "                page_text = page.extract_text()\n",
    "                if page_text:\n",
    "                    text += page_text\n",
    "            return text\n",
    "    except Exception as e:\n",
    "        print(f\"Error reading {file_path}: {e}\")\n",
    "        return ''\n",
    "\n",
    "def clean_text(text):\n",
    "    \"\"\"Clean: lower, remove non-alpha, tokenize, lemmatize, remove stops.\"\"\"\n",
    "    if not isinstance(text, str) or not text.strip():\n",
    "        return ''\n",
    "    try:\n",
    "        text = re.sub(r'[^a-zA-Z\\s]', '', text.lower())\n",
    "        tokens = word_tokenize(text)\n",
    "        cleaned = [lemmatizer.lemmatize(token) for token in tokens if token not in stop_words and len(token) > 3]\n",
    "        return ' '.join(cleaned)\n",
    "    except Exception as e:\n",
    "        print(f\"Error cleaning text: {e}\")\n",
    "        return ''\n",
    "\n",
    "# Extract and clean texts\n",
    "extracted_texts = {name: extract_text_from_pdf(os.path.join(REPORT_DIR, file)) for name, file in reports.items()}\n",
    "cleaned_texts = {name: clean_text(text) for name, text in extracted_texts.items() if text}\n",
    "\n",
    "# Save to CSV\n",
    "output_dir = os.path.join(WORKSPACE_ROOT, 'data')\n",
    "os.makedirs(output_dir, exist_ok=True)\n",
    "output_path = os.path.join(output_dir, 'cleaned_texts.csv')\n",
    "df = pd.DataFrame(cleaned_texts.items(), columns=['Firm_Report', 'Text'])\n",
    "df.to_csv(output_path, index=False)\n",
    "print(f\"Saved cleaned texts to {output_path}\")"
   ]
  },
  {
   "cell_type": "markdown",
   "id": "d76ad860",
   "metadata": {},
   "source": [
    "ML Modeling – VADER Sentiment Analysis"
   ]
  },
  {
   "cell_type": "code",
   "execution_count": 13,
   "id": "9001e2ac",
   "metadata": {},
   "outputs": [
    {
     "name": "stdout",
     "output_type": "stream",
     "text": [
      "      Firm_Report  Sentiment\n",
      "0  McKinsey_State     0.9999\n",
      "1   BCG_Reckoning     0.9998\n",
      "2          EY_FPA     1.0000\n",
      "3   McKinsey_Bank     1.0000\n",
      "4   KPMG_Insights     0.9999\n"
     ]
    }
   ],
   "source": [
    "# Import VADER and plotting libraries\n",
    "from vaderSentiment.vaderSentiment import SentimentIntensityAnalyzer\n",
    "import matplotlib.pyplot as plt\n",
    "\n",
    "# Initialise VADER analyser\n",
    "analyzer = SentimentIntensityAnalyzer()\n",
    "\n",
    "# Calculate sentiment score for each report\n",
    "df['Sentiment'] = df['Text'].apply(lambda x: analyzer.polarity_scores(x)['compound']) # Why: VADER gives sentiment (-1 to +1); compound score summarizes positivity/negativity\n",
    "print(df[['Firm_Report', 'Sentiment']]) # Why: Display Firm_Report and Sentiment for verification"
   ]
  },
  {
   "cell_type": "code",
   "execution_count": 21,
   "id": "73cd8da5",
   "metadata": {},
   "outputs": [
    {
     "name": "stdout",
     "output_type": "stream",
     "text": [
      "{'type': 'chartjs', 'data': {'labels': ['McKinsey_State', 'BCG_Reckoning', 'EY_FPA', 'McKinsey_Bank', 'KPMG_Insights'], 'datasets': [{'label': 'Sentiment Score', 'data': [0.9999, 0.9998, 1.0, 1.0, 0.9999], 'backgroundColor': ['#1f77b4', '#ff7f0e', '#2ca02c', '#d62728', '#9467bd'], 'bordercolor': ['#1f77b4', '#ff7f0e', '#2ca02c', '#d62728', '#9467bd'], 'borderWidth': 1}]}, 'options': {'scales': {'y': {'beginAtZero': True, 'title': {'display': True, 'text': 'Sentiment Score'}}, 'x': {'title': {'display': True, 'text': 'Consultancy Report'}}}, 'plugins': {'title': {'display': True, 'text': 'Sentiment Analysis of AI/ FS Reports'}}}}\n"
     ]
    }
   ],
   "source": [
    "# Create output directory for visualisations\n",
    "os.makedirs('viz', exist_ok=True) # Ensure viz directory exists for saving plots\n",
    "\n",
    "# Plot sentiment bar chart\n",
    "plt.figure(figsize=(8, 15)) # Set figure size for readability\n",
    "df.groupby('Firm_Report') ['Sentiment'].mean().plot(kind='bar') # Visualize average sentiment per report\n",
    "plt.title('Sentiment on AI in FS')\n",
    "plt.ylabel('VADER Sentiment Score') # Label y-axis (positive >0.05, negative <0)\n",
    "plt.savefig('viz/sentiment_bar.png') # Save plot for Streamlit and portfolio\n",
    "plt.close() # Close plot to free memory\n",
    "\n",
    "# Generate Chart .js config for interactive visualisation\n",
    "sentiment_data = df['Sentiment'].tolist() # Extract sentiment scores for Chart.js\n",
    "print({\n",
    "    \"type\": \"chartjs\",\n",
    "    \"data\": {\n",
    "        \"labels\": list(df['Firm_Report']), # Use report names as x-axis labels\n",
    "        \"datasets\": [{\n",
    "            \"label\": \"Sentiment Score\",\n",
    "            \"data\": sentiment_data, # Plot actual sentiment scores\n",
    "            \"backgroundColor\": [\"#1f77b4\", \"#ff7f0e\", \"#2ca02c\", \"#d62728\", \"#9467bd\"], # Distinct colors for 5 reports\n",
    "            \"bordercolor\": [\"#1f77b4\", \"#ff7f0e\", \"#2ca02c\", \"#d62728\", \"#9467bd\"],\n",
    "            \"borderWidth\": 1\n",
    "        }]\n",
    "    },\n",
    "    \"options\": {\n",
    "        \"scales\": {\n",
    "            \"y\": {\"beginAtZero\": True, \"title\": {\"display\": True, \"text\": \"Sentiment Score\"}}, # Start y-axis at 0, label it\n",
    "            \"x\": {\"title\": {\"display\": True, \"text\": \"Consultancy Report\"}} # Label x-axis\n",
    "        },\n",
    "       \"plugins\": {\"title\": {\"display\": True, \"text\": \"Sentiment Analysis of AI/ FS Reports\" }} # Add chart title\n",
    "        }\n",
    "    }\n",
    ")\n",
    "\n",
    "\n"
   ]
  },
  {
   "cell_type": "markdown",
   "id": "98a8af45",
   "metadata": {},
   "source": [
    "Quick Verification for Credibility as the VADER score indicates extremely positive sentiment:"
   ]
  },
  {
   "cell_type": "code",
   "execution_count": 23,
   "id": "c6907f13",
   "metadata": {},
   "outputs": [
    {
     "name": "stdout",
     "output_type": "stream",
     "text": [
      "      Firm_Report                                               Text  \\\n",
      "0  McKinsey_State  state march alex singla alexander sukharevsky ...   \n",
      "1   BCG_Reckoning  financial institution report bank reckoning st...   \n",
      "2          EY_FPA  transforming practical guide maturity transfor...   \n",
      "3   McKinsey_Bank  getty imagesglobal banking practice building b...   \n",
      "4   KPMG_Insights  kpmg global tech report financial service insi...   \n",
      "\n",
      "   Text_Length  \n",
      "0        32174  \n",
      "1        19712  \n",
      "2        65518  \n",
      "3       144125  \n",
      "4        31996  \n",
      "      Firm_Report  Sentiment\n",
      "0  McKinsey_State     0.9999\n",
      "1   BCG_Reckoning     0.9998\n",
      "2          EY_FPA     1.0000\n",
      "3   McKinsey_Bank     1.0000\n",
      "4   KPMG_Insights     0.9999\n"
     ]
    }
   ],
   "source": [
    "# Verify text quality and lengths\n",
    "print(df[['Firm_Report', 'Text']].assign(Text_Length=df['Text'].str.len())) # Check cleaned text lengths to identify short texts\n",
    "print(df[['Firm_Report', 'Sentiment']]) # Confirm sentiment scores for all reports"
   ]
  },
  {
   "cell_type": "markdown",
   "id": "dbfa9993",
   "metadata": {},
   "source": []
  }
 ],
 "metadata": {
  "kernelspec": {
   "display_name": ".venv (3.12.1)",
   "language": "python",
   "name": "python3"
  },
  "language_info": {
   "codemirror_mode": {
    "name": "ipython",
    "version": 3
   },
   "file_extension": ".py",
   "mimetype": "text/x-python",
   "name": "python",
   "nbconvert_exporter": "python",
   "pygments_lexer": "ipython3",
   "version": "3.12.1"
  }
 },
 "nbformat": 4,
 "nbformat_minor": 5
}
